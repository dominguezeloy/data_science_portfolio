{
  "nbformat": 4,
  "nbformat_minor": 0,
  "metadata": {
    "colab": {
      "provenance": [],
      "authorship_tag": "ABX9TyNFx5mjrdzYZClkqKZFfXNl",
      "include_colab_link": true
    },
    "kernelspec": {
      "name": "python3",
      "display_name": "Python 3"
    },
    "language_info": {
      "name": "python"
    }
  },
  "cells": [
    {
      "cell_type": "markdown",
      "metadata": {
        "id": "view-in-github",
        "colab_type": "text"
      },
      "source": [
        "<a href=\"https://colab.research.google.com/github/dominguezeloy/data_science_portfolio/blob/main/Neuronas_Gramos_a_Libras.ipynb\" target=\"_parent\"><img src=\"https://colab.research.google.com/assets/colab-badge.svg\" alt=\"Open In Colab\"/></a>"
      ]
    },
    {
      "cell_type": "markdown",
      "source": [
        "Codigo paso a paso, intento que sea lo mas simple y facil para entender como funciona cada elemento."
      ],
      "metadata": {
        "id": "CZIuRRuGTicU"
      }
    },
    {
      "cell_type": "markdown",
      "source": [
        "Importo las bibliotecas que necesito"
      ],
      "metadata": {
        "id": "MxFus2peUhSm"
      }
    },
    {
      "cell_type": "code",
      "execution_count": null,
      "metadata": {
        "id": "C4H_aBZAaQU9"
      },
      "outputs": [],
      "source": [
        "import tensorflow as tf\n",
        "import numpy as np"
      ]
    },
    {
      "cell_type": "markdown",
      "source": [
        "Creo un dataset con 5 valores"
      ],
      "metadata": {
        "id": "x54izHunUjkG"
      }
    },
    {
      "cell_type": "code",
      "source": [
        "gramos = np.array([1, 7, 21, 48, 73], dtype=float)\n",
        "libras = np.array([0.0022, 0.0154, 0.0463, 0.106, 0.161], dtype=float)"
      ],
      "metadata": {
        "id": "XT_hTerjb1V_"
      },
      "execution_count": null,
      "outputs": []
    },
    {
      "cell_type": "markdown",
      "source": [
        "Genero la red neuronal con un sistema de 5 neuronas x2 capas ocultas\n",
        "\n"
      ],
      "metadata": {
        "id": "mJIBjUgLUkq8"
      }
    },
    {
      "cell_type": "code",
      "source": [
        "oculta1 = tf.keras.layers.Dense(units=5, input_shape=[1])\n",
        "oculta2 = tf.keras.layers.Dense(units=5)\n",
        "salida = tf.keras.layers.Dense(units=1)\n",
        "modelo = tf.keras.Sequential([oculta1, oculta2, salida])"
      ],
      "metadata": {
        "id": "TtcHdAAedwiz"
      },
      "execution_count": null,
      "outputs": []
    },
    {
      "cell_type": "markdown",
      "source": [
        "Compilo el modelo de red neuronal con una tasa de aprendizaje en 0.1"
      ],
      "metadata": {
        "id": "ELfRiBosUl3e"
      }
    },
    {
      "cell_type": "code",
      "source": [
        "modelo.compile(\n",
        " optimizer=tf.keras.optimizers.Adam(0.1),\n",
        " loss='mean_squared_error'\n",
        ")"
      ],
      "metadata": {
        "id": "fQBHuG6afoCy"
      },
      "execution_count": null,
      "outputs": []
    },
    {
      "cell_type": "markdown",
      "source": [
        "Se empieza el entrenamiento y se ajusta la funcion de perdida"
      ],
      "metadata": {
        "id": "WloQ9d0aUnOD"
      }
    },
    {
      "cell_type": "code",
      "source": [
        "print(\"Empieza entrenamiento..\")\n",
        "historial = modelo.fit(gramos, libras, epochs=100, verbose=False)\n",
        "print(\"Modelo entrenado\")"
      ],
      "metadata": {
        "colab": {
          "base_uri": "https://localhost:8080/"
        },
        "id": "9Sg7_ccSgPUZ",
        "outputId": "ed07b8e2-9826-4fdb-d684-80caa3035321"
      },
      "execution_count": null,
      "outputs": [
        {
          "output_type": "stream",
          "name": "stdout",
          "text": [
            "Empieza entrenamiento..\n",
            "Modelo entrenado\n"
          ]
        }
      ]
    },
    {
      "cell_type": "markdown",
      "source": [
        "Visualizo la eficacia del entrenamiento para aumentar precision"
      ],
      "metadata": {
        "id": "xORMdd6bUore"
      }
    },
    {
      "cell_type": "code",
      "source": [
        "import matplotlib.pyplot as plt\n",
        "plt.xlabel(\"# Época\")\n",
        "plt.ylabel(\"Magnitud de pérdida\")\n",
        "plt.plot(historial.history[\"loss\"])"
      ],
      "metadata": {
        "colab": {
          "base_uri": "https://localhost:8080/",
          "height": 468
        },
        "id": "XaBHhcgEhMQP",
        "outputId": "bbb5142b-f007-447d-a384-a5d43d9b5ca9"
      },
      "execution_count": null,
      "outputs": [
        {
          "output_type": "execute_result",
          "data": {
            "text/plain": [
              "[<matplotlib.lines.Line2D at 0x7fcfd410b880>]"
            ]
          },
          "metadata": {},
          "execution_count": 48
        },
        {
          "output_type": "display_data",
          "data": {
            "text/plain": [
              "<Figure size 640x480 with 1 Axes>"
            ],
            "image/png": "[encoded data removed]"
          },
          "metadata": {}
        }
      ]
    },
    {
      "cell_type": "markdown",
      "source": [
        "hago calculo con el modelo entrenado"
      ],
      "metadata": {
        "id": "WTcKBMUqUqak"
      }
    },
    {
      "cell_type": "code",
      "source": [
        "print(\"Hagamos una predicción\")\n",
        "resultado = modelo.predict([147.0])\n",
        "print(\"El resultado es \" + str(resultado) + \" Libras\")"
      ],
      "metadata": {
        "colab": {
          "base_uri": "https://localhost:8080/"
        },
        "id": "6pzziwmQiJZo",
        "outputId": "fd42cf38-7930-448f-df88-bc2cb0e0b8af"
      },
      "execution_count": null,
      "outputs": [
        {
          "output_type": "stream",
          "name": "stdout",
          "text": [
            "Hagamos una predicción\n",
            "1/1 [==============================] - 0s 71ms/step\n",
            "El resultado es [[0.31869113]] Libras\n"
          ]
        }
      ]
    },
    {
      "cell_type": "markdown",
      "source": [
        "Fin del proyecto"
      ],
      "metadata": {
        "id": "AFE5GisnUr_V"
      }
    }
  ]
}